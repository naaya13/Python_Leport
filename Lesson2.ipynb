{
 "cells": [
  {
   "cell_type": "code",
   "execution_count": 3,
   "id": "d988ab1e-539b-46b2-815f-026ddee5d825",
   "metadata": {},
   "outputs": [
    {
     "name": "stdin",
     "output_type": "stream",
     "text": [
      "あいうえおと入力 あいうえお\n"
     ]
    },
    {
     "name": "stdout",
     "output_type": "stream",
     "text": [
      "おえういあ"
     ]
    }
   ],
   "source": [
    "x = input('あいうえおと入力')\n",
    "i = 1\n",
    "while i <= 5:\n",
    "    print(x[-i],end = '')\n",
    "    i += 1"
   ]
  },
  {
   "cell_type": "code",
   "execution_count": 10,
   "id": "4a2b180e-9a73-4267-bcc8-240e5ca39751",
   "metadata": {},
   "outputs": [
    {
     "name": "stdin",
     "output_type": "stream",
     "text": [
      "複数の整数 1 2 3 4 6 7 100\n"
     ]
    },
    {
     "name": "stdout",
     "output_type": "stream",
     "text": [
      "2 4 6 100 "
     ]
    }
   ],
   "source": [
    "x = input('複数の整数')\n",
    "x_int = list(map(int,x.split()))\n",
    "i = 0\n",
    "n = len(x_int)\n",
    "while i < n:\n",
    "    if x_int[i] % 2 == 0:\n",
    "        print(x_int[i],end = ' ')\n",
    "    i += 1"
   ]
  },
  {
   "cell_type": "code",
   "execution_count": 51,
   "id": "09a0bd4f-597b-4728-8a41-7ac8fc77db06",
   "metadata": {},
   "outputs": [
    {
     "name": "stdin",
     "output_type": "stream",
     "text": [
      "二つの整数 60 25\n"
     ]
    },
    {
     "name": "stdout",
     "output_type": "stream",
     "text": [
      "[1, 60, 30, 20, 15, 12, 10, 6, 5, 4, 3, 2] [1, 25, 5]\n",
      "5\n"
     ]
    }
   ],
   "source": [
    "x1 = input('二つの整数')\n",
    "x_int = list(map(int,x1.split()))\n",
    "x2 = []\n",
    "x3 = []\n",
    "for y1 in range (1,x_int[0]+1):\n",
    "    if x_int[0] % y1 == 0:\n",
    "        x2.insert(1,y1)\n",
    "for y2 in range (1,x_int[1]+1):\n",
    "    if x_int[1] % y2 == 0:\n",
    "        x3.insert(1,y2)\n",
    "print(x2,x3)\n",
    "i1 = len(x2)\n",
    "i2 = len(x3)\n",
    "n = []\n",
    "for z1 in range (i1):\n",
    "    for z2 in range (i2):\n",
    "        if x2[z1] == x3[z2]:\n",
    "            n.insert(1,x2[z1])\n",
    "print(max(n))"
   ]
  },
  {
   "cell_type": "code",
   "execution_count": 53,
   "id": "9b5b431d-3829-4dbd-b6c1-4603e333210b",
   "metadata": {},
   "outputs": [
    {
     "name": "stdin",
     "output_type": "stream",
     "text": [
      "二つの整数 2 3\n"
     ]
    },
    {
     "name": "stdout",
     "output_type": "stream",
     "text": [
      "5\n",
      "-1\n",
      "6\n",
      "0.6666666666666666\n"
     ]
    }
   ],
   "source": [
    "x = input('二つの整数')\n",
    "x_int = list(map(int,x.split()))\n",
    "print(x_int[0] + x_int[1])\n",
    "print(x_int[0] - x_int[1])\n",
    "print(x_int[0] * x_int[1])\n",
    "print(x_int[0] / x_int[1])"
   ]
  },
  {
   "cell_type": "code",
   "execution_count": 58,
   "id": "3822a183-72db-42a8-9fe2-b87514659da2",
   "metadata": {},
   "outputs": [
    {
     "name": "stdin",
     "output_type": "stream",
     "text": [
      "文字列を入力 文字列も、もじもじしますし。\n"
     ]
    },
    {
     "name": "stdout",
     "output_type": "stream",
     "text": [
      "も\n"
     ]
    }
   ],
   "source": [
    "x1 = input('文字列を入力')\n",
    "x2 = len(x1)\n",
    "n = 0\n",
    "for y1 in range (x2):\n",
    "    if n < x1.count(x1[y1]):\n",
    "        n = x1.count(x1[y1])\n",
    "        maxWord = x1[y1]\n",
    "print(maxWord)"
   ]
  },
  {
   "cell_type": "code",
   "execution_count": 60,
   "id": "12fe9066-ee3d-487e-86e4-10c2e6f3f610",
   "metadata": {},
   "outputs": [
    {
     "name": "stdin",
     "output_type": "stream",
     "text": [
      "複数の整数 5 2 1 10 11 3\n"
     ]
    },
    {
     "name": "stdout",
     "output_type": "stream",
     "text": [
      "11\n"
     ]
    }
   ],
   "source": [
    "x = input('複数の整数')\n",
    "x_int = list(map(int,x.split()))\n",
    "print(max(x_int))"
   ]
  },
  {
   "cell_type": "code",
   "execution_count": null,
   "id": "9796d575-ba69-4661-b035-986fa20ffb16",
   "metadata": {},
   "outputs": [],
   "source": []
  }
 ],
 "metadata": {
  "kernelspec": {
   "display_name": "Python 3 (ipykernel)",
   "language": "python",
   "name": "python3"
  },
  "language_info": {
   "codemirror_mode": {
    "name": "ipython",
    "version": 3
   },
   "file_extension": ".py",
   "mimetype": "text/x-python",
   "name": "python",
   "nbconvert_exporter": "python",
   "pygments_lexer": "ipython3",
   "version": "3.10.9"
  }
 },
 "nbformat": 4,
 "nbformat_minor": 5
}
