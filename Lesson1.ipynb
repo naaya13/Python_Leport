{
 "cells": [
  {
   "cell_type": "code",
   "execution_count": 4,
   "id": "6ba971d9-7286-4f26-89c8-896dcf96197d",
   "metadata": {},
   "outputs": [
    {
     "name": "stdout",
     "output_type": "stream",
     "text": [
      "身長を入力してください(m) 1.7\n",
      "体重を入力してください(kg) 95\n"
     ]
    },
    {
     "name": "stdout",
     "output_type": "stream",
     "text": [
      "32.871972318339104\n"
     ]
    }
   ],
   "source": [
    "x = float(input('身長を入力してください(m)'))\n",
    "y = float(input('体重を入力してください(kg)'))\n",
    "BMI = y / x ** 2\n",
    "print(BMI)"
   ]
  },
  {
   "cell_type": "code",
   "execution_count": 5,
   "id": "9e91920c-2888-47ae-b818-25059c74c2e6",
   "metadata": {},
   "outputs": [
    {
     "name": "stdout",
     "output_type": "stream",
     "text": [
      "縦の長さ 4\n",
      "横の長さ 3\n"
     ]
    },
    {
     "name": "stdout",
     "output_type": "stream",
     "text": [
      "長方形の周りの長さは14で。面積は12です。\n"
     ]
    }
   ],
   "source": [
    "x = int(input('縦の長さ'))\n",
    "y = int(input('横の長さ'))\n",
    "length = x*2 + y*2\n",
    "area = x * y\n",
    "print(f'長方形の周りの長さは{length}で。面積は{area}です。')"
   ]
  },
  {
   "cell_type": "code",
   "execution_count": 7,
   "id": "95d04595-456e-4ca7-98f3-7674a6676766",
   "metadata": {},
   "outputs": [
    {
     "name": "stdout",
     "output_type": "stream",
     "text": [
      "正の整数 5\n"
     ]
    },
    {
     "name": "stdout",
     "output_type": "stream",
     "text": [
      "120\n"
     ]
    }
   ],
   "source": [
    "n = int(input('正の整数'))\n",
    "i = 1\n",
    "x = 1\n",
    "while i <= n:\n",
    "    x *= i\n",
    "    i += 1\n",
    "print(x)"
   ]
  },
  {
   "cell_type": "code",
   "execution_count": 11,
   "id": "5be35265-2343-40fc-997c-ffe1e5353ce5",
   "metadata": {},
   "outputs": [
    {
     "name": "stdout",
     "output_type": "stream",
     "text": [
      "円の半径 5\n"
     ]
    },
    {
     "name": "stdout",
     "output_type": "stream",
     "text": [
      "78.53981633974483\n"
     ]
    }
   ],
   "source": [
    "x = float(input('円の半径'))\n",
    "r = 3.1415926535897932\n",
    "areaOfCircle = x**2*r\n",
    "print(areaOfCircle)"
   ]
  },
  {
   "cell_type": "code",
   "execution_count": 5,
   "id": "fee7e5aa-c9ce-4a9f-82e5-3d8278109e3f",
   "metadata": {},
   "outputs": [
    {
     "name": "stdout",
     "output_type": "stream",
     "text": [
      " 5\n",
      " 7\n",
      " 3\n",
      " 4\n",
      " 1\n",
      " 2\n"
     ]
    },
    {
     "name": "stdout",
     "output_type": "stream",
     "text": [
      "1.999999999999998\n"
     ]
    }
   ],
   "source": [
    "import math\n",
    "x1 = int(input())\n",
    "y1 = int(input())\n",
    "x2 = int(input())\n",
    "y2 = int(input())\n",
    "y3 = int(input())\n",
    "y3 = int(input())\n",
    "z1 = (math.sqrt((x2-x2)**2+(y2-y3)**2))\n",
    "z2 = (math.sqrt((x2-x1)**2+(y1-y2)**2))\n",
    "z3 = (math.sqrt((x1-x3)**2+(y1-y3)**2))\n",
    "s = (z1+z2+z3)/2\n",
    "area = (math.sqrt(s*(s-(z1))*(s-(z2))*(s-z3)))\n",
    "print(area)"
   ]
  },
  {
   "cell_type": "code",
   "execution_count": 23,
   "id": "1c156e9f-9bd0-4071-9caa-d4b824a6a5b5",
   "metadata": {},
   "outputs": [
    {
     "name": "stdout",
     "output_type": "stream",
     "text": [
      " 4\n"
     ]
    },
    {
     "name": "stdout",
     "output_type": "stream",
     "text": [
      "* \n",
      "\n",
      "** \n",
      "\n",
      "*** \n",
      "\n",
      "**** \n",
      "\n"
     ]
    }
   ],
   "source": [
    "n = int(input())\n",
    "i = 1\n",
    "while i <= n:\n",
    "    print('*'*i,'\\n')\n",
    "    i += 1"
   ]
  },
  {
   "cell_type": "code",
   "execution_count": 14,
   "id": "5fba2ebf-e3c1-47ce-b0bc-239283a488bb",
   "metadata": {},
   "outputs": [
    {
     "name": "stdout",
     "output_type": "stream",
     "text": [
      "12345を入力 1 2 3 4 5\n"
     ]
    },
    {
     "name": "stdout",
     "output_type": "stream",
     "text": [
      "1\n",
      "2\n",
      "3\n",
      "4\n",
      "5\n"
     ]
    }
   ],
   "source": [
    "x = (input('1 2 3 4 5を入力'))\n",
    "i = 0\n",
    "x_int = list(map(int,x.split()))\n",
    "while i <= 4:\n",
    "    print(x_int[i])\n",
    "    i += 1"
   ]
  },
  {
   "cell_type": "code",
   "execution_count": 15,
   "id": "253d4e93-df1d-49dc-9d00-6be12e0f57e0",
   "metadata": {},
   "outputs": [
    {
     "name": "stdout",
     "output_type": "stream",
     "text": [
      "データを入力 1.1 2.2 3.3\n"
     ]
    },
    {
     "name": "stdout",
     "output_type": "stream",
     "text": [
      "2.1999999999999997\n"
     ]
    }
   ],
   "source": [
    "x = input('データを入力')\n",
    "x_f = list(map(float,x.split()))\n",
    "n = len(x_f)\n",
    "print(sum(x_f)/n)"
   ]
  },
  {
   "cell_type": "code",
   "execution_count": 7,
   "id": "c7a77977-5363-4a81-8b23-2a6f4898e4fb",
   "metadata": {},
   "outputs": [
    {
     "name": "stdout",
     "output_type": "stream",
     "text": [
      " 5.5 2.1 3.3 1.3\n"
     ]
    },
    {
     "name": "stdout",
     "output_type": "stream",
     "text": [
      "[2.1, 5.5, 3.3, 1.3]\n",
      "[2.1, 3.3, 5.5, 1.3]\n",
      "[2.1, 3.3, 1.3, 5.5]\n",
      "[2.1, 1.3, 3.3, 5.5]\n",
      "[1.3, 2.1, 3.3, 5.5]\n",
      "2.7\n"
     ]
    }
   ],
   "source": [
    "x = input()\n",
    "x_f = list(map(float,x.split()))\n",
    "n = len(x_f)\n",
    "i1 = 1\n",
    "i2 = 0\n",
    "while i1 < n:\n",
    "    while i2 < n-1:\n",
    "        if x_f[i2] > x_f[i2 + 1]:\n",
    "            temp = x_f[i2 + 1]\n",
    "            x_f.remove(temp)\n",
    "            x_f.insert(i2,temp)\n",
    "            print(x_f)\n",
    "            i2 += 1\n",
    "        else:\n",
    "            i2 += 1\n",
    "    i1 += 1\n",
    "    i2 = 0\n",
    "if n % 2 == 0:\n",
    "    y = n / 2 - 1\n",
    "    z = n / 2\n",
    "    y = int(y)\n",
    "    z = int(z)\n",
    "    a = (x_f[y] + x_f[z]) / 2\n",
    "    print(a)\n",
    "else:\n",
    "    y = n / 2 - 0.5\n",
    "    y = int(y)\n",
    "    print(x_f[y])"
   ]
  },
  {
   "cell_type": "code",
   "execution_count": 10,
   "id": "8ab51d40-e091-4354-afd0-e03864ec1dde",
   "metadata": {},
   "outputs": [
    {
     "name": "stdout",
     "output_type": "stream",
     "text": [
      "好きな数 9\n"
     ]
    },
    {
     "name": "stdout",
     "output_type": "stream",
     "text": [
      "素数ではない\n"
     ]
    }
   ],
   "source": [
    "x = int(input('好きな数'))\n",
    "cnt = 0\n",
    "for y in range(2,x):\n",
    "    if x % y == 0:\n",
    "        print('素数ではない')\n",
    "        cnt += 1\n",
    "if cnt == 0:\n",
    "    print('素数')"
   ]
  },
  {
   "cell_type": "code",
   "execution_count": 29,
   "id": "279746d1-aca8-4250-9da2-b05bedc0e7fe",
   "metadata": {},
   "outputs": [
    {
     "name": "stdout",
     "output_type": "stream",
     "text": [
      "西暦1989年~2019年 1989\n"
     ]
    },
    {
     "name": "stdout",
     "output_type": "stream",
     "text": [
      "各桁の数字の和が素数となった年は6個\n"
     ]
    }
   ],
   "source": [
    "x1 = int(input('西暦1989年~2019年'))\n",
    "cnt1 = 0\n",
    "while x1 <= 2019:\n",
    "    x2 = str(x1)\n",
    "    x_int = list(map(int,x2.split()))\n",
    "    y = sum(x_int)\n",
    "    cnt2 = 0\n",
    "    for z in range(2,y):\n",
    "        if y % z == 0:\n",
    "            cnt2 += 1\n",
    "    if cnt2 == 0:\n",
    "        cnt1 += 1\n",
    "    x1 += 1\n",
    "print(f'各桁の数字の和が素数となった年は{cnt1}個')"
   ]
  },
  {
   "cell_type": "code",
   "execution_count": 28,
   "id": "f744832b-86ac-4a7b-838f-951840ef72fa",
   "metadata": {},
   "outputs": [
    {
     "name": "stdout",
     "output_type": "stream",
     "text": [
      "5 4 3 2 1と入力 5 4 3 2 1\n"
     ]
    },
    {
     "name": "stdout",
     "output_type": "stream",
     "text": [
      "1\n",
      "2\n",
      "3\n",
      "4\n",
      "5\n"
     ]
    }
   ],
   "source": [
    "x1 = input('5 4 3 2 1と入力')\n",
    "x_int = list(map(int,x2.split()))\n",
    "y = len(x_int)\n",
    "i = 1\n",
    "while i <= y:\n",
    "    print(x_int[0-i])\n",
    "    i += 1"
   ]
  },
  {
   "cell_type": "code",
   "execution_count": null,
   "id": "368439a4-1a74-44a8-b347-66440fb74243",
   "metadata": {},
   "outputs": [],
   "source": []
  }
 ],
 "metadata": {
  "kernelspec": {
   "display_name": "Python 3 (ipykernel)",
   "language": "python",
   "name": "python3"
  },
  "language_info": {
   "codemirror_mode": {
    "name": "ipython",
    "version": 3
   },
   "file_extension": ".py",
   "mimetype": "text/x-python",
   "name": "python",
   "nbconvert_exporter": "python",
   "pygments_lexer": "ipython3",
   "version": "3.10.9"
  }
 },
 "nbformat": 4,
 "nbformat_minor": 5
}
